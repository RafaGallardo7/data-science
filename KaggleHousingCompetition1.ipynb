{
  "nbformat": 4,
  "nbformat_minor": 0,
  "metadata": {
    "colab": {
      "provenance": [],
      "authorship_tag": "ABX9TyOwAjfeBCFf23olOZRE3wKw",
      "include_colab_link": true
    },
    "kernelspec": {
      "name": "python3",
      "display_name": "Python 3"
    },
    "language_info": {
      "name": "python"
    }
  },
  "cells": [
    {
      "cell_type": "markdown",
      "metadata": {
        "id": "view-in-github",
        "colab_type": "text"
      },
      "source": [
        "<a href=\"https://colab.research.google.com/github/RafaGallardo7/data-science/blob/main/KaggleHousingCompetition1.ipynb\" target=\"_parent\"><img src=\"https://colab.research.google.com/assets/colab-badge.svg\" alt=\"Open In Colab\"/></a>"
      ]
    },
    {
      "cell_type": "code",
      "source": [
        "import pandas as pd\n",
        "import numpy as np\n",
        "import seaborn as sns\n",
        "from matplotlib import pyplot as plt\n",
        "from sklearn.feature_selection import VarianceThreshold\n",
        "import datetime\n",
        "\n",
        "from sklearn.preprocessing import RobustScaler, MinMaxScaler\n",
        "from sklearn.model_selection import train_test_split\n",
        "\n",
        "from sklearn.ensemble import AdaBoostRegressor, RandomForestRegressor, GradientBoostingRegressor\n",
        "from xgboost.sklearn import XGBRegressor\n",
        "from sklearn.model_selection import GridSearchCV\n",
        "from sklearn.linear_model import ElasticNetCV, Lasso\n",
        "from sklearn.svm import SVR\n",
        "from mlxtend.regressor import StackingRegressor\n",
        "import lightgbm as lgbm\n",
        "\n",
        "import numpy as np\n",
        "from keras.layers import Dense, Activation\n",
        "from keras.models import Sequential\n",
        "\n",
        "\n",
        "from sklearn.pipeline import make_pipeline\n",
        "from sklearn.metrics import mean_squared_error\n",
        "from math import sqrt"
      ],
      "metadata": {
        "id": "3rYGZgn08u-2"
      },
      "execution_count": 1,
      "outputs": []
    },
    {
      "cell_type": "code",
      "execution_count": 4,
      "metadata": {
        "colab": {
          "base_uri": "https://localhost:8080/"
        },
        "id": "OKEwjNlj8tcJ",
        "outputId": "69ed7afe-d4c6-4250-ec1a-f14a5ee29f48"
      },
      "outputs": [
        {
          "output_type": "stream",
          "name": "stdout",
          "text": [
            "[1460, 1459]\n",
            "        Id  MSSubClass MSZoning  LotFrontage  LotArea Street Alley LotShape  \\\n",
            "0        1          60       RL         65.0     8450   Pave   NaN      Reg   \n",
            "1        2          20       RL         80.0     9600   Pave   NaN      Reg   \n",
            "2        3          60       RL         68.0    11250   Pave   NaN      IR1   \n",
            "3        4          70       RL         60.0     9550   Pave   NaN      IR1   \n",
            "4        5          60       RL         84.0    14260   Pave   NaN      IR1   \n",
            "...    ...         ...      ...          ...      ...    ...   ...      ...   \n",
            "1454  2915         160       RM         21.0     1936   Pave   NaN      Reg   \n",
            "1455  2916         160       RM         21.0     1894   Pave   NaN      Reg   \n",
            "1456  2917          20       RL        160.0    20000   Pave   NaN      Reg   \n",
            "1457  2918          85       RL         62.0    10441   Pave   NaN      Reg   \n",
            "1458  2919          60       RL         74.0     9627   Pave   NaN      Reg   \n",
            "\n",
            "     LandContour Utilities  ... PoolArea PoolQC  Fence MiscFeature MiscVal  \\\n",
            "0            Lvl    AllPub  ...        0    NaN    NaN         NaN       0   \n",
            "1            Lvl    AllPub  ...        0    NaN    NaN         NaN       0   \n",
            "2            Lvl    AllPub  ...        0    NaN    NaN         NaN       0   \n",
            "3            Lvl    AllPub  ...        0    NaN    NaN         NaN       0   \n",
            "4            Lvl    AllPub  ...        0    NaN    NaN         NaN       0   \n",
            "...          ...       ...  ...      ...    ...    ...         ...     ...   \n",
            "1454         Lvl    AllPub  ...        0    NaN    NaN         NaN       0   \n",
            "1455         Lvl    AllPub  ...        0    NaN    NaN         NaN       0   \n",
            "1456         Lvl    AllPub  ...        0    NaN    NaN         NaN       0   \n",
            "1457         Lvl    AllPub  ...        0    NaN  MnPrv        Shed     700   \n",
            "1458         Lvl    AllPub  ...        0    NaN    NaN         NaN       0   \n",
            "\n",
            "     MoSold YrSold  SaleType  SaleCondition  SalePrice  \n",
            "0         2   2008        WD         Normal   208500.0  \n",
            "1         5   2007        WD         Normal   181500.0  \n",
            "2         9   2008        WD         Normal   223500.0  \n",
            "3         2   2006        WD        Abnorml   140000.0  \n",
            "4        12   2008        WD         Normal   250000.0  \n",
            "...     ...    ...       ...            ...        ...  \n",
            "1454      6   2006        WD         Normal        NaN  \n",
            "1455      4   2006        WD        Abnorml        NaN  \n",
            "1456      9   2006        WD        Abnorml        NaN  \n",
            "1457      7   2006        WD         Normal        NaN  \n",
            "1458     11   2006        WD         Normal        NaN  \n",
            "\n",
            "[2919 rows x 81 columns]\n"
          ]
        }
      ],
      "source": [
        "# Load the files\n",
        "train_df = pd.read_csv(\"train.csv\")\n",
        "test_df = pd.read_csv(\"test.csv\")\n",
        "\n",
        "# Get number of observations for test and train\n",
        "print([len(x) for x in [train_df, test_df]])\n",
        "\n",
        "# Combine it into one large file for data exploration and cleaning\n",
        "combined_df = pd.concat([train_df, test_df])\n",
        "\n",
        "# Get a first view\n",
        "print(combined_df)\n",
        "\n",
        "# combined_df.shape"
      ]
    },
    {
      "cell_type": "code",
      "source": [
        "# II. Data Cleaning\n",
        "\n",
        "# Quick look at potential missing values\n",
        "print(combined_df.info())\n"
      ],
      "metadata": {
        "colab": {
          "base_uri": "https://localhost:8080/"
        },
        "id": "VjLdf_jk9GGF",
        "outputId": "d5497ee3-53d3-4972-ad2e-9873a47939de"
      },
      "execution_count": 5,
      "outputs": [
        {
          "output_type": "stream",
          "name": "stdout",
          "text": [
            "<class 'pandas.core.frame.DataFrame'>\n",
            "Int64Index: 2919 entries, 0 to 1458\n",
            "Data columns (total 81 columns):\n",
            " #   Column         Non-Null Count  Dtype  \n",
            "---  ------         --------------  -----  \n",
            " 0   Id             2919 non-null   int64  \n",
            " 1   MSSubClass     2919 non-null   int64  \n",
            " 2   MSZoning       2915 non-null   object \n",
            " 3   LotFrontage    2433 non-null   float64\n",
            " 4   LotArea        2919 non-null   int64  \n",
            " 5   Street         2919 non-null   object \n",
            " 6   Alley          198 non-null    object \n",
            " 7   LotShape       2919 non-null   object \n",
            " 8   LandContour    2919 non-null   object \n",
            " 9   Utilities      2917 non-null   object \n",
            " 10  LotConfig      2919 non-null   object \n",
            " 11  LandSlope      2919 non-null   object \n",
            " 12  Neighborhood   2919 non-null   object \n",
            " 13  Condition1     2919 non-null   object \n",
            " 14  Condition2     2919 non-null   object \n",
            " 15  BldgType       2919 non-null   object \n",
            " 16  HouseStyle     2919 non-null   object \n",
            " 17  OverallQual    2919 non-null   int64  \n",
            " 18  OverallCond    2919 non-null   int64  \n",
            " 19  YearBuilt      2919 non-null   int64  \n",
            " 20  YearRemodAdd   2919 non-null   int64  \n",
            " 21  RoofStyle      2919 non-null   object \n",
            " 22  RoofMatl       2919 non-null   object \n",
            " 23  Exterior1st    2918 non-null   object \n",
            " 24  Exterior2nd    2918 non-null   object \n",
            " 25  MasVnrType     2895 non-null   object \n",
            " 26  MasVnrArea     2896 non-null   float64\n",
            " 27  ExterQual      2919 non-null   object \n",
            " 28  ExterCond      2919 non-null   object \n",
            " 29  Foundation     2919 non-null   object \n",
            " 30  BsmtQual       2838 non-null   object \n",
            " 31  BsmtCond       2837 non-null   object \n",
            " 32  BsmtExposure   2837 non-null   object \n",
            " 33  BsmtFinType1   2840 non-null   object \n",
            " 34  BsmtFinSF1     2918 non-null   float64\n",
            " 35  BsmtFinType2   2839 non-null   object \n",
            " 36  BsmtFinSF2     2918 non-null   float64\n",
            " 37  BsmtUnfSF      2918 non-null   float64\n",
            " 38  TotalBsmtSF    2918 non-null   float64\n",
            " 39  Heating        2919 non-null   object \n",
            " 40  HeatingQC      2919 non-null   object \n",
            " 41  CentralAir     2919 non-null   object \n",
            " 42  Electrical     2918 non-null   object \n",
            " 43  1stFlrSF       2919 non-null   int64  \n",
            " 44  2ndFlrSF       2919 non-null   int64  \n",
            " 45  LowQualFinSF   2919 non-null   int64  \n",
            " 46  GrLivArea      2919 non-null   int64  \n",
            " 47  BsmtFullBath   2917 non-null   float64\n",
            " 48  BsmtHalfBath   2917 non-null   float64\n",
            " 49  FullBath       2919 non-null   int64  \n",
            " 50  HalfBath       2919 non-null   int64  \n",
            " 51  BedroomAbvGr   2919 non-null   int64  \n",
            " 52  KitchenAbvGr   2919 non-null   int64  \n",
            " 53  KitchenQual    2918 non-null   object \n",
            " 54  TotRmsAbvGrd   2919 non-null   int64  \n",
            " 55  Functional     2917 non-null   object \n",
            " 56  Fireplaces     2919 non-null   int64  \n",
            " 57  FireplaceQu    1499 non-null   object \n",
            " 58  GarageType     2762 non-null   object \n",
            " 59  GarageYrBlt    2760 non-null   float64\n",
            " 60  GarageFinish   2760 non-null   object \n",
            " 61  GarageCars     2918 non-null   float64\n",
            " 62  GarageArea     2918 non-null   float64\n",
            " 63  GarageQual     2760 non-null   object \n",
            " 64  GarageCond     2760 non-null   object \n",
            " 65  PavedDrive     2919 non-null   object \n",
            " 66  WoodDeckSF     2919 non-null   int64  \n",
            " 67  OpenPorchSF    2919 non-null   int64  \n",
            " 68  EnclosedPorch  2919 non-null   int64  \n",
            " 69  3SsnPorch      2919 non-null   int64  \n",
            " 70  ScreenPorch    2919 non-null   int64  \n",
            " 71  PoolArea       2919 non-null   int64  \n",
            " 72  PoolQC         10 non-null     object \n",
            " 73  Fence          571 non-null    object \n",
            " 74  MiscFeature    105 non-null    object \n",
            " 75  MiscVal        2919 non-null   int64  \n",
            " 76  MoSold         2919 non-null   int64  \n",
            " 77  YrSold         2919 non-null   int64  \n",
            " 78  SaleType       2918 non-null   object \n",
            " 79  SaleCondition  2919 non-null   object \n",
            " 80  SalePrice      1460 non-null   float64\n",
            "dtypes: float64(12), int64(26), object(43)\n",
            "memory usage: 1.8+ MB\n",
            "None\n"
          ]
        }
      ]
    },
    {
      "cell_type": "code",
      "source": [
        "# Classify int variables into category if needed\n",
        "combined_df[\"MSSubClass\"] = combined_df[\"MSSubClass\"].astype(\"category\")\n",
        "combined_df[\"MoSold\"] = combined_df[\"MoSold\"].astype(\"category\")"
      ],
      "metadata": {
        "id": "6gZ_iiwB9Y4q"
      },
      "execution_count": 6,
      "outputs": []
    },
    {
      "cell_type": "code",
      "source": [
        "# Cleaning categorical variables\n",
        "\n",
        "# Categorical data impute with mode of neighborhood and MSSubClass or just mode of own column if missing\n",
        "missing_vals = [\"MSZoning\", \"Alley\", \"Utilities\", 'MasVnrType', 'BsmtQual', 'BsmtCond', 'BsmtExposure', 'BsmtFinType1', 'BsmtFinType2',\"Electrical\",'KitchenQual','Functional','GarageType',\"SaleType\", 'GarageFinish','GarageQual','GarageCond','Exterior1st', 'Exterior2nd','FireplaceQu', \"PoolQC\", \"Fence\", \"MiscFeature\"]\n",
        "\n",
        "for missing_val in missing_vals:\n",
        "    try:\n",
        "        combined_df[missing_val] = combined_df.groupby(['MSSubClass', \"Neighborhood\"])[missing_val].transform(lambda x: x.fillna(x.mode()[0]))\n",
        "    except:\n",
        "     combined_df[missing_val].fillna((combined_df[missing_val].mode()[0]), inplace=True)"
      ],
      "metadata": {
        "id": "BLsLKWqZ9lV6"
      },
      "execution_count": 7,
      "outputs": []
    },
    {
      "cell_type": "code",
      "source": [
        "# Add \"Other\" category as most elements are missing\n",
        "combined_df[\"PoolQC\"] = combined_df[\"PoolQC\"].fillna(\"Other\")"
      ],
      "metadata": {
        "id": "gsa50lHX9rUa"
      },
      "execution_count": 8,
      "outputs": []
    },
    {
      "cell_type": "code",
      "source": [
        "# Cleaning continuous variables\n",
        "\n",
        "# Continuous data\n",
        "missing_vals = [\"LotFrontage\", 'MasVnrArea', 'BsmtFinSF1', 'BsmtFinSF1','TotalBsmtSF', 'BsmtFullBath', 'BsmtHalfBath', 'GarageCars', 'GarageArea',]\n",
        "impute_vals = [\"LotConfig\" ,\"Neighborhood\",'BsmtFinType1', 'BsmtFinType2','BsmtQual', 'BsmtQual', 'BsmtQual','GarageType', 'GarageType']\n",
        "\n",
        "for missing_val, impute_val in zip(missing_vals, impute_vals):\n",
        "    combined_df[missing_val] = combined_df[missing_val].fillna(combined_df.groupby(impute_val)[missing_val].transform('mean'))"
      ],
      "metadata": {
        "id": "U933Og8u9yCF"
      },
      "execution_count": 9,
      "outputs": []
    },
    {
      "cell_type": "code",
      "source": [
        "# Continuous impute data based on other continuous data\n",
        "missing_vals = ['GarageYrBlt']\n",
        "impute_vals = ['YearBuilt']\n",
        "\n",
        "for missing_val, impute_val in zip(missing_vals, impute_vals):\n",
        "    combined_df[missing_val] = combined_df[missing_val].fillna(combined_df[impute_val])"
      ],
      "metadata": {
        "id": "LMxo82yv92f2"
      },
      "execution_count": 10,
      "outputs": []
    },
    {
      "cell_type": "code",
      "source": [
        "# Fill all leftovers with mean\n",
        "for missing_val in combined_df.columns.values.tolist():\n",
        "\n",
        "    if missing_val == \"SalePrice\":\n",
        "        pass\n",
        "\n",
        "    else:\n",
        "        try:\n",
        "            combined_df[missing_val] = combined_df[missing_val].fillna(combined_df[missing_val].mean())\n",
        "        except:\n",
        "            pass\n",
        "\n",
        "# List of cols with missing values\n",
        "print([col for col in combined_df.columns if combined_df[col].isnull().any()])"
      ],
      "metadata": {
        "colab": {
          "base_uri": "https://localhost:8080/"
        },
        "id": "QQnhUPLI94p7",
        "outputId": "b99eebdf-9c02-41a9-b709-0794e8ee8135"
      },
      "execution_count": 11,
      "outputs": [
        {
          "output_type": "stream",
          "name": "stdout",
          "text": [
            "['SalePrice']\n"
          ]
        }
      ]
    },
    {
      "cell_type": "code",
      "source": [
        "# III. Feature engineering\n",
        "\n",
        "# Add and change some variables, namely the \"Year\" ones as it would be better to have them as \"Age\"\n",
        "year = datetime.date.today().year\n",
        "combined_df[\"AgeSold\"] = int(year) - combined_df[\"YrSold\"].astype(int)\n",
        "combined_df[\"AgeGarage\"] = int(year) - combined_df[\"GarageYrBlt\"].astype(int)\n",
        "combined_df[\"AgeBuilt\"] = int(year) - combined_df[\"YearBuilt\"].astype(int)"
      ],
      "metadata": {
        "id": "xONTOwOJ98G1"
      },
      "execution_count": 12,
      "outputs": []
    },
    {
      "cell_type": "code",
      "source": [
        "# Add some features related to total area of the house\n",
        "combined_df['TotalArea'] = combined_df['TotalBsmtSF'] + combined_df['1stFlrSF'] + combined_df['2ndFlrSF'] + combined_df['GrLivArea'] +combined_df['GarageArea']\n",
        "combined_df['Bathrooms'] = combined_df['FullBath'] + combined_df['HalfBath']/2\n",
        "combined_df['Year average']= (combined_df['YearRemodAdd']+combined_df['YearBuilt'])/2"
      ],
      "metadata": {
        "id": "DArSAKnx-Li7"
      },
      "execution_count": 13,
      "outputs": []
    },
    {
      "cell_type": "code",
      "source": [
        "# # IV. Plotting\n",
        "\n",
        "# # Check the sale price distribution by different types of variables\n",
        "# for element in [\"MSSubClass\", \"MSZoning\", \"HouseStyle\",\"CentralAir\", \"PoolQC\", \"SaleType\"]:\n",
        "#     cat_plot = sns.catplot(y=\"SalePrice\", x= element, kind=\"swarm\", legend=\"full\", data=combined_df, height=4.5, aspect=3 / 3,);\n",
        "#     cat_plot.set_xticklabels(rotation=90)"
      ],
      "metadata": {
        "id": "5PgxkCCw-Pw2"
      },
      "execution_count": 16,
      "outputs": []
    },
    {
      "cell_type": "code",
      "source": [
        "# # Check the sale price distribution by different types of variables\n",
        "# for element in [\"1stFlrSF\", \"LotArea\", \"OverallQual\", \"OverallCond\", \"YearBuilt\",\"ExterQual\", \"YrSold\"]:\n",
        "#     re_plot = sns.relplot(y=\"SalePrice\", x= element, legend=\"full\", data=combined_df, height=4.5, aspect=3 / 3,);\n",
        "#     re_plot.set_xticklabels(rotation=90)"
      ],
      "metadata": {
        "id": "5VerKcp4-R0G"
      },
      "execution_count": 17,
      "outputs": []
    },
    {
      "cell_type": "code",
      "source": [
        "# Correlation matrix\n",
        "corr_mat = combined_df.corr()\n",
        "\n",
        "# Generate a mask for the upper triangle\n",
        "mask = np.triu(np.ones_like(corr_mat, dtype=np.bool))\n",
        "\n",
        "# Generate a custom diverging colormap\n",
        "cmap = sns.diverging_palette(220, 10, as_cmap=True)\n",
        "\n",
        "sns.heatmap(corr_mat, mask=mask, cmap=cmap, center=0,\n",
        "            square=True, linewidths=.5, cbar_kws={\"shrink\": .5})\n",
        "\n",
        "plt.show()"
      ],
      "metadata": {
        "colab": {
          "base_uri": "https://localhost:8080/",
          "height": 634
        },
        "id": "z0vVd7xP_pUn",
        "outputId": "4d8365fd-83be-41dd-8f53-43a5b9087ce8"
      },
      "execution_count": 18,
      "outputs": [
        {
          "output_type": "stream",
          "name": "stderr",
          "text": [
            "<ipython-input-18-8afac23694c5>:2: FutureWarning: The default value of numeric_only in DataFrame.corr is deprecated. In a future version, it will default to False. Select only valid columns or specify the value of numeric_only to silence this warning.\n",
            "  corr_mat = combined_df.corr()\n",
            "<ipython-input-18-8afac23694c5>:5: DeprecationWarning: `np.bool` is a deprecated alias for the builtin `bool`. To silence this warning, use `bool` by itself. Doing this will not modify any behavior and is safe. If you specifically wanted the numpy scalar type, use `np.bool_` here.\n",
            "Deprecated in NumPy 1.20; for more details and guidance: https://numpy.org/devdocs/release/1.20.0-notes.html#deprecations\n",
            "  mask = np.triu(np.ones_like(corr_mat, dtype=np.bool))\n"
          ]
        },
        {
          "output_type": "display_data",
          "data": {
            "text/plain": [
              "<Figure size 640x480 with 2 Axes>"
            ],
            "image/png": "[encoded data removed]"
          },
          "metadata": {}
        }
      ]
    },
    {
      "cell_type": "code",
      "source": [
        "# V. Data transformation\n",
        "\n",
        "# Get dummies for our data set\n",
        "combined_df = pd.get_dummies(combined_df)"
      ],
      "metadata": {
        "id": "4_D2pTb1_sTr"
      },
      "execution_count": 19,
      "outputs": []
    },
    {
      "cell_type": "code",
      "source": [
        "# Split data set into test and train\n",
        "\n",
        "\n",
        "# Split the data set so to build our model\n",
        "train_df = combined_df[combined_df[\"SalePrice\"] > 0 ]\n",
        "test_df = combined_df[combined_df[\"SalePrice\"].isna() ]\n",
        "test_df = test_df.drop([\"SalePrice\"], axis = 1)\n",
        "\n",
        "# Create the X and y sets\n",
        "X_train_df = train_df.drop([\"SalePrice\"], axis = 1)\n",
        "y_train_df = train_df[[\"Id\" ,\"SalePrice\"]]"
      ],
      "metadata": {
        "id": "YIjBWsKqAB3V"
      },
      "execution_count": 20,
      "outputs": []
    },
    {
      "cell_type": "code",
      "source": [
        "# Log transform the SalePrice as it is skewed\n",
        "y_train_df[\"SalePrice\"] = np.log1p(y_train_df[\"SalePrice\"])"
      ],
      "metadata": {
        "colab": {
          "base_uri": "https://localhost:8080/"
        },
        "id": "X1JnKuM9AE0X",
        "outputId": "4df4321a-f276-4eff-c454-7a426e10e50c"
      },
      "execution_count": 21,
      "outputs": [
        {
          "output_type": "stream",
          "name": "stderr",
          "text": [
            "<ipython-input-21-2c224cc4013b>:2: SettingWithCopyWarning: \n",
            "A value is trying to be set on a copy of a slice from a DataFrame.\n",
            "Try using .loc[row_indexer,col_indexer] = value instead\n",
            "\n",
            "See the caveats in the documentation: https://pandas.pydata.org/pandas-docs/stable/user_guide/indexing.html#returning-a-view-versus-a-copy\n",
            "  y_train_df[\"SalePrice\"] = np.log1p(y_train_df[\"SalePrice\"])\n"
          ]
        }
      ]
    },
    {
      "cell_type": "code",
      "source": [
        "# Set the ID col as index\n",
        "for element in [X_train_df, y_train_df, test_df]:\n",
        "    element.set_index('Id', inplace = True)"
      ],
      "metadata": {
        "id": "5ylnRjwnAQ18"
      },
      "execution_count": 22,
      "outputs": []
    },
    {
      "cell_type": "code",
      "source": [
        "# Scale the data and use RobustScaler to minimize the effect of outliers\n",
        "scaler = RobustScaler()\n",
        "\n",
        "# Scale the X_train set\n",
        "X_train_scaled = scaler.fit_transform(X_train_df.values)\n",
        "X_train_df = pd.DataFrame(X_train_scaled, index = X_train_df.index, columns= X_train_df.columns)\n",
        "\n",
        "# Scale the X_test set\n",
        "X_test_scaled = scaler.transform(test_df.values)\n",
        "X_test_df = pd.DataFrame(X_test_scaled, index = test_df.index, columns= test_df.columns)"
      ],
      "metadata": {
        "id": "6gjE2rjsAS8e"
      },
      "execution_count": 23,
      "outputs": []
    },
    {
      "cell_type": "code",
      "source": [
        "# Feature selection\n",
        "threshold_n=0.55\n",
        "sel = VarianceThreshold(threshold=(threshold_n* (1 - threshold_n) ))\n",
        "sel_var=sel.fit_transform(X_train_df)\n",
        "\n",
        "# Create the new datasets\n",
        "X_train_df = X_train_df[X_train_df.columns[sel.get_support(indices=True)]]\n",
        "X_test_df = X_test_df[X_test_df.columns[sel.get_support(indices= True)]]\n",
        "\n",
        "# Check what we have\n",
        "print(X_train_df.info())"
      ],
      "metadata": {
        "colab": {
          "base_uri": "https://localhost:8080/"
        },
        "id": "3a79p0gzAVOy",
        "outputId": "74b0c7aa-3e53-4410-d040-9136a8eaa504"
      },
      "execution_count": 24,
      "outputs": [
        {
          "output_type": "stream",
          "name": "stdout",
          "text": [
            "<class 'pandas.core.frame.DataFrame'>\n",
            "Int64Index: 1460 entries, 1 to 1460\n",
            "Data columns (total 42 columns):\n",
            " #   Column             Non-Null Count  Dtype  \n",
            "---  ------             --------------  -----  \n",
            " 0   LotFrontage        1460 non-null   float64\n",
            " 1   LotArea            1460 non-null   float64\n",
            " 2   OverallQual        1460 non-null   float64\n",
            " 3   OverallCond        1460 non-null   float64\n",
            " 4   YearBuilt          1460 non-null   float64\n",
            " 5   YearRemodAdd       1460 non-null   float64\n",
            " 6   MasVnrArea         1460 non-null   float64\n",
            " 7   BsmtFinSF1         1460 non-null   float64\n",
            " 8   BsmtFinSF2         1460 non-null   float64\n",
            " 9   BsmtUnfSF          1460 non-null   float64\n",
            " 10  TotalBsmtSF        1460 non-null   float64\n",
            " 11  1stFlrSF           1460 non-null   float64\n",
            " 12  2ndFlrSF           1460 non-null   float64\n",
            " 13  LowQualFinSF       1460 non-null   float64\n",
            " 14  GrLivArea          1460 non-null   float64\n",
            " 15  BsmtFullBath       1460 non-null   float64\n",
            " 16  FullBath           1460 non-null   float64\n",
            " 17  HalfBath           1460 non-null   float64\n",
            " 18  BedroomAbvGr       1460 non-null   float64\n",
            " 19  TotRmsAbvGrd       1460 non-null   float64\n",
            " 20  Fireplaces         1460 non-null   float64\n",
            " 21  GarageYrBlt        1460 non-null   float64\n",
            " 22  GarageCars         1460 non-null   float64\n",
            " 23  GarageArea         1460 non-null   float64\n",
            " 24  WoodDeckSF         1460 non-null   float64\n",
            " 25  OpenPorchSF        1460 non-null   float64\n",
            " 26  EnclosedPorch      1460 non-null   float64\n",
            " 27  3SsnPorch          1460 non-null   float64\n",
            " 28  ScreenPorch        1460 non-null   float64\n",
            " 29  PoolArea           1460 non-null   float64\n",
            " 30  MiscVal            1460 non-null   float64\n",
            " 31  YrSold             1460 non-null   float64\n",
            " 32  AgeSold            1460 non-null   float64\n",
            " 33  AgeGarage          1460 non-null   float64\n",
            " 34  AgeBuilt           1460 non-null   float64\n",
            " 35  TotalArea          1460 non-null   float64\n",
            " 36  Year average       1460 non-null   float64\n",
            " 37  HouseStyle_1Story  1460 non-null   float64\n",
            " 38  BsmtQual_TA        1460 non-null   float64\n",
            " 39  HeatingQC_Ex       1460 non-null   float64\n",
            " 40  KitchenQual_TA     1460 non-null   float64\n",
            " 41  GarageFinish_Unf   1460 non-null   float64\n",
            "dtypes: float64(42)\n",
            "memory usage: 490.5 KB\n",
            "None\n"
          ]
        }
      ]
    },
    {
      "cell_type": "code",
      "source": [
        "# VI. Modelling\n",
        "\n",
        "# Split our training set into train and test data\n",
        "X_train, X_test, y_train, y_test = train_test_split(X_train_df, y_train_df, test_size=0.05, random_state=23)"
      ],
      "metadata": {
        "id": "ddrplRLdAX7o"
      },
      "execution_count": 26,
      "outputs": []
    },
    {
      "cell_type": "code",
      "source": [
        "# In the next part, we will run the models listed here under and stack the best ones into a stacked regression. Most of the comments are included in the code chunks.\n",
        "\n",
        "# ElasticNet\n",
        "# Lasso\n",
        "# randomForest\n",
        "# AdaBoost\n",
        "# XGBoost\n",
        "# ANN with Keras\n",
        "# LightGBM\n",
        "# SVM"
      ],
      "metadata": {
        "id": "5QBC34_KAb_R"
      },
      "execution_count": 28,
      "outputs": []
    },
    {
      "cell_type": "code",
      "source": [
        "# ElasticNet\n",
        "\n",
        "# REGULARIZATION WITH ELASTIC NET\n",
        "# Set parameters to iterate over\n",
        "alphas = [0.000542555]\n",
        "l1ratio = [0.1, 0.3,0.5, 0.9, 0.95, 0.99, 1]\n",
        "# Model with iterative fitting\n",
        "elastic_cv = ElasticNetCV(cv=5, max_iter=10000, alphas=alphas,  l1_ratio=l1ratio)\n",
        "\n",
        "# Fit the model to the data\n",
        "estc_reg = elastic_cv.fit(X_train, y_train)\n",
        "\n",
        "# Predict on the test set from our training set\n",
        "y_pred = estc_reg.predict(X_test)\n",
        "print(\"ElasticRegressor RMSE:\",sqrt(mean_squared_error(y_test, y_pred)))\n",
        "\n",
        "# Create predictions\n",
        "predictions = np.exp(estc_reg.predict(X_test_df))\n",
        "my_pred_estc = pd.DataFrame({'Id': X_test_df.index, 'SalePrice': predictions})\n",
        "\n",
        "# Create CSV file\n",
        "my_pred_estc.to_csv('pred_estc.csv', index=False)"
      ],
      "metadata": {
        "colab": {
          "base_uri": "https://localhost:8080/"
        },
        "id": "FyvPXhuLAj2W",
        "outputId": "fab52cbe-081b-4e8d-afc0-56bdb18632e6"
      },
      "execution_count": 38,
      "outputs": [
        {
          "output_type": "stream",
          "name": "stderr",
          "text": [
            "/usr/local/lib/python3.10/dist-packages/sklearn/linear_model/_coordinate_descent.py:1568: DataConversionWarning: A column-vector y was passed when a 1d array was expected. Please change the shape of y to (n_samples, ), for example using ravel().\n",
            "  y = column_or_1d(y, warn=True)\n",
            "/usr/local/lib/python3.10/dist-packages/sklearn/linear_model/_coordinate_descent.py:617: ConvergenceWarning: Objective did not converge. You might want to increase the number of iterations. Duality gap: 0.02114712701628818, tolerance: 0.017690918170600266\n",
            "  model = cd_fast.enet_coordinate_descent_gram(\n",
            "/usr/local/lib/python3.10/dist-packages/sklearn/linear_model/_coordinate_descent.py:617: ConvergenceWarning: Objective did not converge. You might want to increase the number of iterations. Duality gap: 0.031874367399257864, tolerance: 0.017690918170600266\n",
            "  model = cd_fast.enet_coordinate_descent_gram(\n"
          ]
        },
        {
          "output_type": "stream",
          "name": "stdout",
          "text": [
            "ElasticRegressor RMSE: 0.1759215395679287\n"
          ]
        }
      ]
    },
    {
      "cell_type": "code",
      "source": [
        "# LASSO\n",
        "\n",
        "# REGULARIZATION WITH LASSO\n",
        "# Set parameters to iterate over\n",
        "parameters= {'alpha':[0.0001,0.0009,0.001,0.002,0.003,0.01,0.1,1,10,100]}\n",
        "\n",
        "# Instantiate reg for gridsearch\n",
        "lasso=Lasso()\n",
        "# Conduct the gridsearch\n",
        "lasso_reg = GridSearchCV(lasso, param_grid=parameters, scoring='neg_mean_squared_error', cv=15)\n",
        "\n",
        "# Instantiate new lasso reg with best params\n",
        "lasso_reg = Lasso(alpha= 0.0009)\n",
        "\n",
        "# Fit the model to the data\n",
        "lasso_reg.fit(X_train,y_train)\n",
        "\n",
        "# Predict on the test set from our training set\n",
        "y_pred = lasso_reg.predict(X_test)\n",
        "print(\"LassoRegressor RMSE:\",sqrt(mean_squared_error(y_test, y_pred)))\n",
        "\n",
        "# Create predictions\n",
        "predictions = np.exp(lasso_reg.predict(X_test_df))\n",
        "my_pred_lasso = pd.DataFrame({'Id': X_test_df.index, 'SalePrice': predictions})\n",
        "\n",
        "# Create CSV file\n",
        "my_pred_lasso.to_csv('pred_lasso.csv', index=False)"
      ],
      "metadata": {
        "colab": {
          "base_uri": "https://localhost:8080/"
        },
        "id": "AVk597OvAr2e",
        "outputId": "b0b44be5-221f-426c-d82d-32f249886b3e"
      },
      "execution_count": 116,
      "outputs": [
        {
          "output_type": "stream",
          "name": "stdout",
          "text": [
            "LassoRegressor RMSE: 0.17605976400185003\n"
          ]
        }
      ]
    },
    {
      "cell_type": "code",
      "source": [
        "# RANDOM FOREST\n",
        "\n",
        "# RANDOM FOREST\n",
        "\n",
        "# Create the parameter grid based on the results of random search\n",
        "param_grid = {\n",
        "    'bootstrap': [True],\n",
        "    'max_depth': [80, 90, 100, 110],\n",
        "    'max_features': ['auto', 'sqrt', 'log2'],\n",
        "    'min_samples_leaf': [3, 4, 5],\n",
        "    'min_samples_split': [8, 10, 12],\n",
        "    'n_estimators': [100, 200, 300, 1000]\n",
        "}\n",
        "\n",
        "# Instantiate reg for gridsearch\n",
        "rf = RandomForestRegressor()\n",
        "\n",
        "# Conduct the gridsearch\n",
        "grid_search = GridSearchCV(estimator = rf, param_grid = param_grid,\n",
        "                          cv = 3, n_jobs = -1, verbose = 2)\n",
        "\n",
        "# Fit the grid search to the data\n",
        "# grid_search.fit(X_train_df, y_train_df)\n",
        "# print(grid_search.best_params_)\n",
        "\n",
        "# Create a random forest with best parameters\n",
        "rf_reg = RandomForestRegressor(bootstrap =  True, max_depth = 80, max_features = 'auto', min_samples_leaf = 3,\n",
        "                               min_samples_split = 8, n_estimators = 300, n_jobs=-1, random_state=12)\n",
        "\n",
        "# Fit the model to the data\n",
        "rf_reg.fit(X_train, y_train)\n",
        "\n",
        "# Predict on the test set from our training set\n",
        "y_pred_rf = rf_reg.predict(X_test)\n",
        "print(\"RandomForestRegressor RMSE:\",sqrt(mean_squared_error(y_test, y_pred_rf)))\n",
        "\n",
        "# Create predictions\n",
        "predictions = np.exp(rf_reg.predict(X_test_df))\n",
        "my_pred_rf = pd.DataFrame({'Id': X_test_df.index, 'SalePrice': predictions})\n",
        "\n",
        "# Create CSV file\n",
        "my_pred_rf.to_csv('pred_rf.csv', index=False)"
      ],
      "metadata": {
        "colab": {
          "base_uri": "https://localhost:8080/"
        },
        "id": "ACtDjnMxBGWM",
        "outputId": "08ff7dd9-40e3-4198-872e-288b53d54aaf"
      },
      "execution_count": 42,
      "outputs": [
        {
          "output_type": "stream",
          "name": "stderr",
          "text": [
            "<ipython-input-42-d56c62708a6c>:31: DataConversionWarning: A column-vector y was passed when a 1d array was expected. Please change the shape of y to (n_samples,), for example using ravel().\n",
            "  rf_reg.fit(X_train, y_train)\n",
            "/usr/local/lib/python3.10/dist-packages/sklearn/ensemble/_forest.py:413: FutureWarning: `max_features='auto'` has been deprecated in 1.1 and will be removed in 1.3. To keep the past behaviour, explicitly set `max_features=1.0` or remove this parameter as it is also the default value for RandomForestRegressors and ExtraTreesRegressors.\n",
            "  warn(\n"
          ]
        },
        {
          "output_type": "stream",
          "name": "stdout",
          "text": [
            "RandomForestRegressor RMSE: 0.18632859815924274\n"
          ]
        }
      ]
    },
    {
      "cell_type": "code",
      "source": [
        "# ADABOOST\n",
        "\n",
        "# ADA BOOST\n",
        "\n",
        "# Grid search for best params\n",
        "param_grid = {\n",
        " 'n_estimators': [50, 100, 200],\n",
        " 'learning_rate' : [0.01,0.05,0.1,0.3,1],\n",
        " 'loss' : ['linear', 'square', 'exponential']\n",
        " }\n",
        "\n",
        "# Instantiate reg for gridsearch\n",
        "ab_reg = AdaBoostRegressor()\n",
        "\n",
        "# Conduct the gridsearch\n",
        "grid_search = GridSearchCV(estimator = ab_reg, param_grid = param_grid, cv = 4, n_jobs = -1, verbose = 2)\n",
        "\n",
        "# Fit the grid search to the data\n",
        "# grid_search.fit(X_train_df, y_train_df)\n",
        "# print(grid_search.best_params_)\n",
        "\n",
        "# Create a random forest with best parameters\n",
        "ab_reg = AdaBoostRegressor(learning_rate =1, loss = 'exponential', n_estimators =  50, random_state= 12)\n",
        "\n",
        "# Fit the model to the data\n",
        "ab_reg.fit(X_train, y_train)\n",
        "\n",
        "# Predict on the test set from our training set\n",
        "y_pred_ab = ab_reg.predict(X_test)\n",
        "print(\"AdaBoostRegressor RMSE:\",sqrt(mean_squared_error(y_test, y_pred_ab)))\n",
        "\n",
        "# Create predictions\n",
        "predictions = np.exp(ab_reg.predict(X_test_df))\n",
        "my_pred_ab = pd.DataFrame({'Id': X_test_df.index, 'SalePrice': predictions})\n",
        "\n",
        "# Create CSV file\n",
        "my_pred_ab.to_csv('pred_ab.csv', index=False)"
      ],
      "metadata": {
        "colab": {
          "base_uri": "https://localhost:8080/"
        },
        "id": "7AQNwC_eBOP7",
        "outputId": "4b4dc6c7-d5ec-4d29-a27d-a49d5c605b4d"
      },
      "execution_count": 43,
      "outputs": [
        {
          "output_type": "stream",
          "name": "stderr",
          "text": [
            "/usr/local/lib/python3.10/dist-packages/sklearn/utils/validation.py:1143: DataConversionWarning: A column-vector y was passed when a 1d array was expected. Please change the shape of y to (n_samples, ), for example using ravel().\n",
            "  y = column_or_1d(y, warn=True)\n"
          ]
        },
        {
          "output_type": "stream",
          "name": "stdout",
          "text": [
            "AdaBoostRegressor RMSE: 0.2061786672211322\n"
          ]
        }
      ]
    },
    {
      "cell_type": "code",
      "source": [
        "# XGBoost\n",
        "\n",
        "# XGBOOST\n",
        "\n",
        "# Grid search for best params\n",
        "param_grid = {'max_depth':[3,4],\n",
        "          'learning_rate':[0.01,0.03],\n",
        "          'min_child_weight':[1,3],\n",
        "          'reg_lambda':[0.1,0.5],\n",
        "          'reg_alpha':[1,1.5],\n",
        "          'gamma':[0.1,0.5],\n",
        "          'subsample':[0.4,0.5],\n",
        "         'colsample_bytree':[0.4,0.5],\n",
        "}\n",
        "\n",
        "# Instantiate reg for gridsearch\n",
        "reg = XGBRegressor()\n",
        "\n",
        "# Conduct the gridsearch\n",
        "grid_search = GridSearchCV(estimator = reg, param_grid = param_grid,\n",
        "                          cv = 4, n_jobs = -1, verbose = True)\n",
        "\n",
        "# Fit the grid search to the data\n",
        "# grid_search.fit(X_train_df, y_train_df)\n",
        "# print(grid_search.best_params_)\n",
        "\n",
        "# Create a regressor with best parameters\n",
        "xgb_reg = XGBRegressor(learning_rate=0.01,n_estimators=3460,\n",
        "                                     max_depth=3,min_child_weight=0,\n",
        "                                     gamma=0, subsample=0.7,\n",
        "                                     colsample_bytree=0.7,\n",
        "                                     objective='reg:squarederror',\n",
        "nthread=-1, scale_pos_weight=1, seed=27,reg_alpha=0.00006)\n",
        "\n",
        "# Fit the model to the data\n",
        "xgb_reg.fit(X_train, y_train)\n",
        "\n",
        "# Predict on the test set from our training set\n",
        "y_pred = xgb_reg.predict(X_test)\n",
        "print(\"XGBoostRegressor RMSE:\",sqrt(mean_squared_error(y_test, y_pred)))\n",
        "\n",
        "# Create predictions\n",
        "predictions = np.exp(xgb_reg.predict(X_test_df))\n",
        "my_pred_xgb = pd.DataFrame({'Id': X_test_df.index, 'SalePrice': predictions})\n",
        "\n",
        "# Create CSV file\n",
        "my_pred_xgb.to_csv('pred_xgb.csv', index=False)"
      ],
      "metadata": {
        "colab": {
          "base_uri": "https://localhost:8080/"
        },
        "id": "QczLVrWgC74T",
        "outputId": "6a315211-61d1-4b99-d36b-add9cb1f3c3d"
      },
      "execution_count": 44,
      "outputs": [
        {
          "output_type": "stream",
          "name": "stdout",
          "text": [
            "XGBoostRegressor RMSE: 0.17373097162496393\n"
          ]
        }
      ]
    },
    {
      "cell_type": "code",
      "source": [
        "# ANN WITH KERAS\n",
        "\n",
        "# NEURAL NETWORK\n",
        "\n",
        "# Initialising the ANN\n",
        "# model = Sequential()\n",
        "\n",
        "# # Adding the input layer and the first hidden layer\n",
        "# model.add(Dense(32, activation = 'relu', input_dim = 320))\n",
        "\n",
        "# # Adding the second hidden layer\n",
        "# model.add(Dense(units = 317, activation = 'relu'))\n",
        "\n",
        "# # Adding the third hidden layer\n",
        "# model.add(Dense(units = 300, activation = 'relu'))\n",
        "\n",
        "# # Adding the fourth hidden layer\n",
        "# model.add(Dense(units = 200, activation = 'relu'))\n",
        "\n",
        "# # Adding the fifth hidden layer\n",
        "# model.add(Dense(units = 200, activation = 'relu'))\n",
        "\n",
        "# # Adding the sixth hidden layer\n",
        "# model.add(Dense(units = 100, activation = 'relu'))\n",
        "\n",
        "# # Adding the seventh hidden layer\n",
        "# model.add(Dense(units = 100, activation = 'relu'))\n",
        "\n",
        "# # Adding the output layer\n",
        "# model.add(Dense(units = 1))\n",
        "\n",
        "# # Compiling the ANN\n",
        "# model.compile(optimizer = 'adam', loss = 'mean_squared_error')\n",
        "\n",
        "# # Fitting the ANN to the Training set\n",
        "# model.fit(X_train, y_train, batch_size = 10, epochs = 200)\n",
        "\n",
        "# y_pred = model.predict(X_test)\n",
        "# print(\"ANNRegressor RMSE:\",sqrt(mean_squared_error(y_test, y_pred)))\n",
        "\n",
        "# # Create predictions\n",
        "# predictions = np.exp(model.predict(X_test_df))\n",
        "# predictions = np.concatenate( predictions, axis=0 )\n",
        "# my_pred_ann = pd.DataFrame({'Id': X_test_df.index, 'SalePrice': predictions})\n",
        "\n",
        "# # Create CSV file\n",
        "# my_pred_ann.to_csv('pred_ann.csv', index=False)"
      ],
      "metadata": {
        "id": "FWf87qL7D_gc"
      },
      "execution_count": 48,
      "outputs": []
    },
    {
      "cell_type": "code",
      "source": [
        "# LIGHTGBM\n",
        "\n",
        "# LIGHTGBM\n",
        "# Instantiate reg\n",
        "lgbm_reg = lgbm.LGBMRegressor(\n",
        "    objective='regression',\n",
        "    num_leaves=4,\n",
        "    learning_rate=0.01,\n",
        "    n_estimators=5000,\n",
        "    max_bin=200,\n",
        "    bagging_fraction=0.75,\n",
        "    bagging_freq=5,\n",
        "    bagging_seed=7,\n",
        "    feature_fraction=0.2,\n",
        "    feature_fraction_seed=27,\n",
        "    verbose=-1,\n",
        "    #min_data_in_leaf=2,\n",
        "    #min_sum_hessian_in_leaf=11\n",
        ")\n",
        "\n",
        "# Fit the model to the data\n",
        "lgbm_reg.fit(X_train, y_train)\n",
        "\n",
        "# Predict on the test set from our training set\n",
        "y_pred = lgbm_reg.predict(X_test)\n",
        "print(\"LGBMRegressor RMSE:\",sqrt(mean_squared_error(y_test, y_pred)))\n",
        "\n",
        "# Create predictions\n",
        "predictions = np.exp(lgbm_reg.predict(X_test_df))\n",
        "my_pred_lgbm = pd.DataFrame({'Id': X_test_df.index, 'SalePrice': predictions})\n",
        "\n",
        "# Create CSV file\n",
        "# my_pred_lgbm.to_csv('pred_lgbm.csv', index=False)\n",
        "my_pred_lgbm.to_csv('submission.csv', index=False)"
      ],
      "metadata": {
        "colab": {
          "base_uri": "https://localhost:8080/"
        },
        "id": "0uKL7L3CEJG4",
        "outputId": "acd72eb0-d36e-4272-9999-ac448f7b6964"
      },
      "execution_count": 102,
      "outputs": [
        {
          "output_type": "stream",
          "name": "stdout",
          "text": [
            "LGBMRegressor RMSE: 0.1683246699567288\n"
          ]
        }
      ]
    },
    {
      "cell_type": "code",
      "source": [
        "# SUPPORT VECTOR MACHINE\n",
        "\n",
        "# SVM\n",
        "# Instantiate reg\n",
        "svr_reg = make_pipeline(RobustScaler(), SVR(\n",
        "    C=20,\n",
        "    epsilon=0.008,\n",
        "    gamma=0.0003,\n",
        "))\n",
        "\n",
        "# Fit the model to the data\n",
        "svr_reg.fit(X_train, y_train)\n",
        "\n",
        "# Predict on the test set from our training set\n",
        "y_pred = svr_reg.predict(X_test)\n",
        "print(\"SVRRegressor RMSE:\",sqrt(mean_squared_error(y_test, y_pred)))\n",
        "\n",
        "# Create predictions\n",
        "predictions = np.exp(svr_reg.predict(X_test_df))\n",
        "my_pred_svr = pd.DataFrame({'Id': X_test_df.index, 'SalePrice': predictions})\n",
        "\n",
        "# Create CSV file\n",
        "# my_pred_svr.to_csv('pred_svr.csv', index=False)\n",
        "my_pred_svr.to_csv('submission.csv', index=False)"
      ],
      "metadata": {
        "colab": {
          "base_uri": "https://localhost:8080/"
        },
        "id": "dONuxzMSEgQj",
        "outputId": "3cb799da-6bd4-4f36-f061-e0c7189ff4be"
      },
      "execution_count": 84,
      "outputs": [
        {
          "output_type": "stream",
          "name": "stderr",
          "text": [
            "/usr/local/lib/python3.10/dist-packages/sklearn/utils/validation.py:1143: DataConversionWarning: A column-vector y was passed when a 1d array was expected. Please change the shape of y to (n_samples, ), for example using ravel().\n",
            "  y = column_or_1d(y, warn=True)\n"
          ]
        },
        {
          "output_type": "stream",
          "name": "stdout",
          "text": [
            "SVRRegressor RMSE: 0.21032325472490188\n"
          ]
        }
      ]
    },
    {
      "cell_type": "code",
      "source": [
        "# STACKEDREGRESSION\n",
        "# STACKED REGRESSION\n",
        "\n",
        "# Instantiate reg\n",
        "stregr = StackingRegressor(regressors=[xgb_reg, estc_reg, lasso_reg, lgbm_reg],meta_regressor=lgbm_reg, use_features_in_secondary=True )\n",
        "# Fit the model to the data\n",
        "stack_reg=stregr.fit(X_train, y_train)\n",
        "\n",
        "# Predict on the test set from our training set\n",
        "y_pred = stack_reg.predict(X_test)\n",
        "print(\"StackedRegressor RMSE:\",sqrt(mean_squared_error(y_test, y_pred)))\n",
        "\n",
        "# Create predictions\n",
        "predictions = np.exp(stack_reg.predict(X_test_df))\n",
        "my_pred_stacked = pd.DataFrame({'Id': X_test_df.index, 'SalePrice': predictions})\n",
        "\n",
        "# Create CSV file\n",
        "# my_pred_stacked.to_csv('pred_stacked.csv', index=False)\n",
        "my_pred_stacked.to_csv('submission.csv', index=False)"
      ],
      "metadata": {
        "colab": {
          "base_uri": "https://localhost:8080/"
        },
        "id": "W8nfcgfFEj81",
        "outputId": "a161a8f6-bc32-43a0-8946-a8aa26afa8df"
      },
      "execution_count": 83,
      "outputs": [
        {
          "output_type": "stream",
          "name": "stderr",
          "text": [
            "/usr/local/lib/python3.10/dist-packages/sklearn/utils/validation.py:1143: DataConversionWarning: A column-vector y was passed when a 1d array was expected. Please change the shape of y to (n_samples, ), for example using ravel().\n",
            "  y = column_or_1d(y, warn=True)\n",
            "/usr/local/lib/python3.10/dist-packages/sklearn/linear_model/_coordinate_descent.py:617: ConvergenceWarning: Objective did not converge. You might want to increase the number of iterations. Duality gap: 0.02114712701628818, tolerance: 0.017690918170600266\n",
            "  model = cd_fast.enet_coordinate_descent_gram(\n",
            "/usr/local/lib/python3.10/dist-packages/sklearn/linear_model/_coordinate_descent.py:617: ConvergenceWarning: Objective did not converge. You might want to increase the number of iterations. Duality gap: 0.031874367399257864, tolerance: 0.017690918170600266\n",
            "  model = cd_fast.enet_coordinate_descent_gram(\n",
            "/usr/local/lib/python3.10/dist-packages/sklearn/base.py:432: UserWarning: X has feature names, but ElasticNetCV was fitted without feature names\n",
            "  warnings.warn(\n",
            "/usr/local/lib/python3.10/dist-packages/sklearn/base.py:432: UserWarning: X has feature names, but Lasso was fitted without feature names\n",
            "  warnings.warn(\n",
            "/usr/local/lib/python3.10/dist-packages/sklearn/base.py:432: UserWarning: X has feature names, but ElasticNetCV was fitted without feature names\n",
            "  warnings.warn(\n",
            "/usr/local/lib/python3.10/dist-packages/sklearn/base.py:432: UserWarning: X has feature names, but Lasso was fitted without feature names\n",
            "  warnings.warn(\n"
          ]
        },
        {
          "output_type": "stream",
          "name": "stdout",
          "text": [
            "StackedRegressor RMSE: 0.1699236647051134\n"
          ]
        }
      ]
    },
    {
      "cell_type": "code",
      "source": [],
      "metadata": {
        "id": "X-4wsljwEnwc"
      },
      "execution_count": null,
      "outputs": []
    }
  ]
}